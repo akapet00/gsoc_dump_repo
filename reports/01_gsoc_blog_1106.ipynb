{
 "cells": [
  {
   "cell_type": "markdown",
   "metadata": {},
   "source": [
    "<center>\n",
    "    <h1> Google Summer of Code blog #1 </h1>\n",
    "    <h2>\"Welcome to GSoC 2021!\" </h2>\n",
    "    <img src=\"static/gsoc_logo.png\" alt=\"GSoC logo\">\n",
    "</center>"
   ]
  },
  {
   "cell_type": "markdown",
   "metadata": {},
   "source": [
    "## Introduction\n",
    "\n",
    "Picture this... May 17th, late afternoon, sitting on my couch exhausted... Probably watching Netflix and stressing out how I should probably do some work on my thesis or, at least, do anything else other than be a complete slacker.\n",
    "I turn on my laptop, take a look at the mail and there's a very pleasant surprise:\n",
    "```\n",
    "Hi antelk,\n",
    "\n",
    "Your proposal Support of the simulation-based inference with the model fitting toolbox has been accepted!\n",
    "\n",
    "Welcome to GSoC 2021!\n",
    "\n",
    "We look forward to seeing the great things you will accomplish this summer with INCF.\n",
    "```\n",
    "I have to be honest... I did not expect to get in and I was equally thrilled and terrified.\n",
    "Still, more thrilled than terrified and I can proudly introduce myself as a 2021 GSoC student :)"
   ]
  },
  {
   "cell_type": "markdown",
   "metadata": {},
   "source": [
    "## Project\n",
    "\n",
    "I will work on the project *Support of the simulation-based inference with the model fitting toolbox* together with my mentor Marcel Stimberg and the rest of the model fitting team under the [Brian simulator](https://briansimulator.org/) project.\n",
    "Brian is a free and open source, cross-platform simulator for biological neurons and spiking neural networks.\n",
    "It is written in the extremely efficient manner using the Python programming language and the entire code-base is available [on GitHub](https://github.com/brian-team/brian2).\n",
    "\n",
    "`brian2modelfitting` allows a user to find the best fit unknown parameters for recorded traces and spike trains.\n",
    "The focus of my project is the integration of the `sbi` library into the `brian2modelfitting` toolbox to extend currently implemented fitting capabilities for custom excitable single cell models with simulation-based inference techniques.\n",
    "This will enable `brian2modelfitting` to not only result in a single set of optimal parameters, rather in the full posterior distribution over parameters.\n",
    "It will also expolit prior system knowledge sparsely, using only the most important features to identify mechanistic models which are consistent with the measured data by means of recorded traces and spike trains.\n",
    "`sbi` library is a completely separate effort and its development is coordinated at the [mackelab](https://uni-tuebingen.de/en/research/core-research/cluster-of-excellence-machine-learning/research/research/cluster-research-groups/professorships/machine-learning-in-science/).\n",
    "\n",
    "Relevant URLs:\n",
    "* [summary of the project](https://summerofcode.withgoogle.com/projects/#4982864942202880);\n",
    "* for more details on the project, see [my draft proposal](https://docs.google.com/document/d/1s1GsL4FtKL3iN_kFuQRj81vekGtTUvpVlxwkZIcd4Z8/edit#heading=h.2hzcrm8ors39) in Google Docs;\n",
    "* you can also track my progress through `brian2modelfitting` [project pages](https://github.com/brian-team/brian2modelfitting/projects/1) on GitHub."
   ]
  },
  {
   "cell_type": "markdown",
   "metadata": {},
   "source": [
    "## First steps\n",
    "\n",
    "During the first period of the project, i.e., from May 17th to June 7th, all students have to participate in something called *Community bonding*, during which we are required to become familiar with the community practices and processes by actively participating on mailing lists, IRC, Gitter etc.\n",
    "Me personaly, I waited for a couple of days to have my first virtual meeting with Marcel.\n",
    "He explained the inner workings of GSoC and the INCF (International Neuroinformatics Coordinating Facility), an international non-profit umbrella organization that embrace principles of Open, FAIR and Citable neuroscience, under which Marcel also operates for the duration of the GSoC.\n",
    "We agreed to have casual video calls each week, communicate daily via e-mail, Gitter, and Github issues, but make our best to keep the most of the communication open for the entire community through the official Brian discourse channel.\n",
    "\n",
    "I delved deep into both `brian2modelfitting` and `sbi` documentation.\n",
    "I also went through a couple of relevant tutorials:\n",
    "* [official `brian2` online tutorials](https://brian2.readthedocs.io/en/stable/resources/tutorials/index.html);\n",
    "* [examples](https://github.com/brian-team/brian2modelfitting/tree/master/examples) on `brian2modelfitting` GitHub page;\n",
    "* [all tutorials and examples](https://www.mackelab.org/sbi/) that are offered from `sbi` development team.\n",
    "\n",
    "I read a couple of recent papers that cover the simulation based inference:\n",
    "* a review paper by Cranmer et al. [[2020](#Cranmer2020)], where the authors outline principles of modern simulation-based inference supported by likelihood-free statistical approach and machine learning;\n",
    "* a JOSS paper by Tejero-Cantero et al. [[2020](#Tejero-Cantero2020)]., that covers implementation details of `sbi` library and goes into details of currently implemented families of neural inference algorithms;\n",
    "* preprint by Lueckmann et al. [[2021](#Lueckmann2021)], in which the authors investigate performance of many simulation based inference algorithms;\n",
    "* and eLife article by Gonçalves et al. [[2020](#Gonçalves2020)]., where authors show concrete examples in which the simulation based inference truly shines.\n",
    "\n",
    "Also, I wanted to refresh my memory on the version control:\n",
    "* ./missing-semester/version-control tutorial available [here](https://missing.csail.mit.edu/2020/version-control/);\n",
    "* Pro Git book, relevant chapters, freely available [here](https://git-scm.com/book/en/v2).\n",
    "\n",
    "After the second virtual meeting, Marcel and I agreed that the next steps should be:\n",
    "1. installing all dependencies for the future work and creating a development environment;\n",
    "2. opening issues on GitHub that would closely resamble tasks for the first coding phase, i.e., from June 7th up to Phase 1 evaluations scheduled on July 12th.\n",
    "All issues can be tracked through the project page in the `brian2modelfitting` repository on GitHub.\n",
    "\n",
    "The third virtual meeting resulted in a discussion on several implementation details and a final agreement on the development of the code itself and best practices for version control."
   ]
  },
  {
   "cell_type": "markdown",
   "metadata": {},
   "source": [
    "## Microreport, week 1\n",
    "\n",
    "### What have I get done this week?\n",
    "* Played with more advanced examples in `sbi` and went through the [Introduction to Brian](https://www.youtube.com/watch?v=cAF3UWTzX9A) online workshop.\n",
    "* Started to work on the wrapper class for first stages of simulation based inference that will ultimately allow a user to obtain posterior over the unknown parameters with a few simple lines of code, [issue #44](https://github.com/brian-team/brian2modelfitting/issues/44).\n",
    "* Investigated dimensionality reduction techniques that would automatically extract the relevant features from the traces and, therefore, allow a user to avoid the process of manually extracting summary statistics used to feed a neural density estimator of choice.\n",
    "I brushed up my knowledge on dimensionality reduction by going through a last year's Neuromatch Academy tutorials and then devoted myself to applying more advanced methods, specifically Time2Vec neural network embedding that provides a model-agnostic vector representation for time by Kazemi et al. [[2019](#Kazemi2019)].\n",
    "This work is related to an [issue #45](https://github.com/brian-team/brian2modelfitting/issues/45).\n",
    "* Found out the way to efficiently store the results from the first stages of simulation based inference that are known to be time consuming, [issue #46](https://github.com/brian-team/brian2modelfitting/issues/46).\n",
    "* Had the fourth virtual meeting with Marcel where discussion on what had been done over the past week.\n",
    "\n",
    "### What am I planning to do next week?\n",
    "* To start on the actual implementation of the wrapper class for first stages of the simulation-based inference.\n",
    "\n",
    "### Is anything blocking my progress?\n",
    "* Nothing for now."
   ]
  },
  {
   "cell_type": "markdown",
   "metadata": {},
   "source": [
    "## References\n",
    "\n",
    "<p id='Cranmer2020'>Kyle  <b>Cranmer</b>, Johann Brehmer, Gilles Louppe. The frontier of simulation-based inference, Proceedings of the National Academy of Sciences Dec <b>2020</b>, 117 (48) 30055-30062; doi:10.1073/pnas.1912789117</p>\n",
    "\n",
    "<p id='Gonçalves2020'>Pedro J  <b>Gonçalves</b>, Jan-Matthis Lueckmann, Michael Deistler, Marcel Nonnenmacher, Kaan Öcal, Giacomo Bassetto, Chaitanya Chintaluri, William F Podlaski, Sara A Haddad, Tim P Vogels, David S Greenberg, Jakob H Macke. Training deep neural density estimators to identify mechanistic models of neural dynamics, eLife <b>2020</b> 9:e56261; doi:10.7554/eLife.56261</p>\n",
    "\n",
    "<p id='Kazemi2019'>Seyed Mehran  <b>Kazemi</b>, Rishab Goel, Sepehr Eghbali, Janahan Ramanan, Jaspreet Sahota, Sanjay Thakur, Stella Wu, Cathal Smyth, Pascal Poupart, Marcus Brubaker. Time2Vec: Learning a Vector Representation of Time, preprint <b>2019</b></p>\n",
    "\n",
    "<p id='Lueckmann2021'>Jan-Matthis  <b>Lueckmann</b>, Jan Boelts, David S Greenberg, David, Pedro J Gonçalves, Jakob H Macke. Benchmarking Simulation-Based Inference. preprint <b>2021</b></p>\n",
    "\n",
    "<p id='Tejero-Cantero2020'>Alvaro  <b>Tejero-Cantero</b>, Jan Boelts, Michael Deistler, Jan-Matthis Lueckmann, Conor Durkan, Pedro J Goncalves, David S Greenberg, Jakob H Macke. sbi: A toolkit for simulation-based inference, Journal of Open Source Software <b>2020</b>, 5. 2505; doi:10.21105/joss.02505</p>"
   ]
  }
 ],
 "metadata": {
  "kernelspec": {
   "display_name": "Python 3",
   "language": "python",
   "name": "python3"
  },
  "language_info": {
   "codemirror_mode": {
    "name": "ipython",
    "version": 3
   },
   "file_extension": ".py",
   "mimetype": "text/x-python",
   "name": "python",
   "nbconvert_exporter": "python",
   "pygments_lexer": "ipython3",
   "version": "3.8.10"
  }
 },
 "nbformat": 4,
 "nbformat_minor": 4
}
