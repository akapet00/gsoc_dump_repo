{
 "cells": [
  {
   "cell_type": "code",
   "execution_count": 1,
   "id": "f50e0794-7229-4c94-9281-d2bbf0f08a2b",
   "metadata": {},
   "outputs": [],
   "source": [
    "import pandas as pd\n",
    "import matplotlib.pyplot as plt\n",
    "import numpy as np\n",
    "import efel"
   ]
  },
  {
   "cell_type": "code",
   "execution_count": 16,
   "id": "b7e3233a-36fc-4377-99ff-ba45bf24ade9",
   "metadata": {},
   "outputs": [],
   "source": [
    "input_traces = pd.read_csv('../data/input_traces_hh.csv').to_numpy()[:-1, 1:]\n",
    "output_traces = pd.read_csv('../data/output_traces_hh.csv').to_numpy()[:-1, 1:]"
   ]
  },
  {
   "cell_type": "code",
   "execution_count": 32,
   "id": "23a0205f-c095-4621-aeb6-dd563c1f44b1",
   "metadata": {},
   "outputs": [],
   "source": [
    "t = np.arange(0, input_traces.shape[1]/10, 0.1)"
   ]
  },
  {
   "cell_type": "code",
   "execution_count": 50,
   "id": "01c14d66-e013-4fc0-b2fe-267c6c18f1a5",
   "metadata": {},
   "outputs": [],
   "source": [
    "traces = []\n",
    "for input_trace, output_trace in zip(input_traces, output_traces):\n",
    "    trace = {}\n",
    "    trace['T'] = t\n",
    "    trace['V'] = output_trace\n",
    "    trace['stim_start'] = [50]\n",
    "    trace['stim_end'] = [100]\n",
    "    traces.append(trace)"
   ]
  },
  {
   "cell_type": "code",
   "execution_count": 54,
   "id": "906bb7be-3c41-4c53-b1f6-cf3548b97ad3",
   "metadata": {},
   "outputs": [],
   "source": [
    "traces_results = efel.getFeatureValues(traces, ['voltage_base', 'Spikecount'])"
   ]
  },
  {
   "cell_type": "code",
   "execution_count": 55,
   "id": "2317bbae-c6fa-481b-be21-bd85f295f9b3",
   "metadata": {},
   "outputs": [
    {
     "data": {
      "text/plain": [
       "[{'voltage_base': array([-64.99387619]), 'Spikecount': array([3])},\n",
       " {'voltage_base': array([-64.98307897]), 'Spikecount': array([1])},\n",
       " {'voltage_base': array([-66.82643713]), 'Spikecount': array([2])},\n",
       " {'voltage_base': array([-64.81755824]), 'Spikecount': array([5])}]"
      ]
     },
     "execution_count": 55,
     "metadata": {},
     "output_type": "execute_result"
    }
   ],
   "source": [
    "traces_results"
   ]
  },
  {
   "cell_type": "code",
   "execution_count": 57,
   "id": "8f94e690-8a7c-41de-ad7c-b1be5d38db42",
   "metadata": {},
   "outputs": [
    {
     "data": {
      "text/plain": [
       "[<matplotlib.lines.Line2D at 0x7f6d88f65940>]"
      ]
     },
     "execution_count": 57,
     "metadata": {},
     "output_type": "execute_result"
    },
    {
     "data": {
      "image/png": "[encoded data removed]",
      "text/plain": [
       "<Figure size 432x288 with 1 Axes>"
      ]
     },
     "metadata": {
      "needs_background": "light"
     },
     "output_type": "display_data"
    }
   ],
   "source": [
    "plt.plot(t*10, output_traces[1, :])"
   ]
  },
  {
   "cell_type": "code",
   "execution_count": 59,
   "id": "0748df6c-9c11-4b51-9099-13cd581c4fde",
   "metadata": {},
   "outputs": [
    {
     "data": {
      "text/plain": [
       "-64.60550311318788"
      ]
     },
     "execution_count": 59,
     "metadata": {},
     "output_type": "execute_result"
    }
   ],
   "source": [
    "output_traces[1, 2]"
   ]
  },
  {
   "cell_type": "code",
   "execution_count": null,
   "id": "f3687e8d-87d0-4461-ba9f-4b4b953e283b",
   "metadata": {},
   "outputs": [],
   "source": []
  }
 ],
 "metadata": {
  "kernelspec": {
   "display_name": "Python 3",
   "language": "python",
   "name": "python3"
  },
  "language_info": {
   "codemirror_mode": {
    "name": "ipython",
    "version": 3
   },
   "file_extension": ".py",
   "mimetype": "text/x-python",
   "name": "python",
   "nbconvert_exporter": "python",
   "pygments_lexer": "ipython3",
   "version": "3.8.10"
  }
 },
 "nbformat": 4,
 "nbformat_minor": 5
}
