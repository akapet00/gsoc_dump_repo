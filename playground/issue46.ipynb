{
 "cells": [
  {
   "cell_type": "markdown",
   "id": "filled-finish",
   "metadata": {},
   "source": [
    "https://github.com/brian-team/brian2modelfitting/issues/46"
   ]
  },
  {
   "cell_type": "code",
   "execution_count": 1,
   "id": "mental-qatar",
   "metadata": {},
   "outputs": [],
   "source": [
    "import os\n",
    "\n",
    "import torch\n",
    "from sbi import utils as utils\n",
    "from sbi import analysis as analysis\n",
    "from sbi.inference import SNPE, prepare_for_sbi, simulate_for_sbi"
   ]
  },
  {
   "cell_type": "code",
   "execution_count": 2,
   "id": "spread-settle",
   "metadata": {},
   "outputs": [],
   "source": [
    "def simulator(parameter_set):\n",
    "    return parameter_set + torch.randn(parameter_set.shape) * 0.1"
   ]
  },
  {
   "cell_type": "code",
   "execution_count": 3,
   "id": "dedicated-netscape",
   "metadata": {},
   "outputs": [
    {
     "data": {
      "application/vnd.jupyter.widget-view+json": {
       "model_id": "d1630da4b9c94a3f8988fc036d4b33b1",
       "version_major": 2,
       "version_minor": 0
      },
      "text/plain": [
       "Running 100 simulations in 100 batches.:   0%|          | 0/100 [00:00<?, ?it/s]"
      ]
     },
     "metadata": {},
     "output_type": "display_data"
    },
    {
     "name": "stdout",
     "output_type": "stream",
     "text": [
      "Neural network successfully converged after 197 epochs.\n"
     ]
    }
   ],
   "source": [
    "# data\n",
    "prior = utils.BoxUniform(low=-2*torch.ones(3), high=2*torch.ones(3))\n",
    "observation = torch.zeros(3)\n",
    "x_o = simulator(observation)\n",
    "\n",
    "# learning the density estimator and building the posterior\n",
    "simulator, prior = prepare_for_sbi(simulator, prior)\n",
    "theta, x = simulate_for_sbi(simulator, proposal=prior, num_simulations=100, num_workers=4)\n",
    "\n",
    "# creating a posterior from neural density estimator\n",
    "inference = SNPE(prior)\n",
    "density_estimator = inference.append_simulations(theta, x).train()\n",
    "og_posterior = inference.build_posterior(density_estimator)\n",
    "\n",
    "# sampling from the posterior\n",
    "#samples = og_posterior.sample((10000,), x=observation)\n",
    "#log_probability = og_posterior.log_prob(samples, x=observation)\n",
    "#_ = analysis.pairplot(samples,\n",
    "#                      figsize=(6, 6),\n",
    "#                      points=x_o,\n",
    "#                      points_offdiag={'markersize': 6},\n",
    "#                      points_colors=['r'])\n",
    "\n",
    "# save the density estimator state dictionary\n",
    "torch.save(og_posterior.net, os.path.join('output', 'psd.pth'))"
   ]
  },
  {
   "cell_type": "code",
   "execution_count": 5,
   "id": "israeli-trance",
   "metadata": {},
   "outputs": [],
   "source": [
    "new_inference = SNPE(prior)\n",
    "density_estimator_loaded = torch.load(os.path.join('output', 'psd.pth'))\n",
    "new_posterior = new_inference.build_posterior(density_estimator_loaded)"
   ]
  },
  {
   "cell_type": "code",
   "execution_count": 6,
   "id": "derived-hydrogen",
   "metadata": {},
   "outputs": [
    {
     "data": {
      "application/vnd.jupyter.widget-view+json": {
       "model_id": "b84941bdf9c74cf98a1d1b11ea670744",
       "version_major": 2,
       "version_minor": 0
      },
      "text/plain": [
       "Drawing 10000 posterior samples:   0%|          | 0/10000 [00:00<?, ?it/s]"
      ]
     },
     "metadata": {},
     "output_type": "display_data"
    },
    {
     "data": {
      "image/png": "[encoded data removed]",
      "text/plain": [
       "<Figure size 432x432 with 9 Axes>"
      ]
     },
     "metadata": {
      "needs_background": "light"
     },
     "output_type": "display_data"
    }
   ],
   "source": [
    "# sampling from the new posterior\n",
    "samples = new_posterior.sample((10000,), x=observation)\n",
    "log_probability = new_posterior.log_prob(samples, x=observation)\n",
    "_ = analysis.pairplot(samples,\n",
    "                      figsize=(6, 6),\n",
    "                      points=x_o,\n",
    "                      points_offdiag={'markersize': 6},\n",
    "                      points_colors=['r'])"
   ]
  },
  {
   "cell_type": "code",
   "execution_count": null,
   "id": "tracked-league",
   "metadata": {},
   "outputs": [],
   "source": []
  }
 ],
 "metadata": {
  "kernelspec": {
   "display_name": "Python 3",
   "language": "python",
   "name": "python3"
  },
  "language_info": {
   "codemirror_mode": {
    "name": "ipython",
    "version": 3
   },
   "file_extension": ".py",
   "mimetype": "text/x-python",
   "name": "python",
   "nbconvert_exporter": "python",
   "pygments_lexer": "ipython3",
   "version": "3.7.10"
  }
 },
 "nbformat": 4,
 "nbformat_minor": 5
}
