{
 "cells": [
  {
   "cell_type": "code",
   "execution_count": 1,
   "id": "6af3dee1-4f9f-485f-9bca-d72da0c9ff5e",
   "metadata": {},
   "outputs": [],
   "source": [
    "from brian2 import *\n",
    "from brian2modelfitting import *\n",
    "import pandas as pd\n",
    "import numpy as np\n",
    "from torch import nn\n",
    "import torch\n",
    "import numpy as np"
   ]
  },
  {
   "cell_type": "code",
   "execution_count": 2,
   "id": "d43e8ee1-d3f4-426d-a1f5-4630ad09b27c",
   "metadata": {},
   "outputs": [],
   "source": [
    "# data generated from the simulator as defined in:\n",
    "# https://github.com/brian-team/brian2/blob/master/examples/advanced/modelfitting_sbi.py#L33-L91\n",
    "inp_traces = np.load('../data/input_traces_sim.npy').reshape(1, -1)\n",
    "out_traces = np.load('../data/output_traces_sim.npy')"
   ]
  },
  {
   "cell_type": "code",
   "execution_count": 3,
   "id": "b90d1748-4f21-4777-a233-f57a1a202642",
   "metadata": {},
   "outputs": [],
   "source": [
    "# Time domain\n",
    "dt = 0.05*ms\n",
    "t = arange(0, out_traces.size*dt/ms, dt/ms)"
   ]
  },
  {
   "cell_type": "code",
   "execution_count": 4,
   "id": "a2b48663-6839-45d8-b965-6aaf122dd0da",
   "metadata": {},
   "outputs": [],
   "source": [
    "gleak = 10*nS\n",
    "Eleak = -70*mV\n",
    "VT = -60.0*mV\n",
    "C = 200*pF\n",
    "ENa = 53*mV\n",
    "EK = -107*mV\n",
    "\n",
    "eqs = '''\n",
    "     dVm/dt = -(gNa*m**3*h*(Vm - ENa) + gK*n**4*(Vm - EK) + gleak*(Vm - Eleak) - I_inj) / C : volt\n",
    "     dm/dt = alpham*(1-m) - betam*m : 1\n",
    "     dn/dt = alphan*(1-n) - betan*n : 1\n",
    "     dh/dt = alphah*(1-h) - betah*h : 1\n",
    "\n",
    "     alpham = (-0.32/mV) * (Vm - VT - 13.*mV) / (exp((-(Vm - VT - 13.*mV))/(4.*mV)) - 1)/ms : Hz\n",
    "     betam = (0.28/mV) * (Vm - VT - 40.*mV) / (exp((Vm - VT - 40.*mV)/(5.*mV)) - 1)/ms : Hz\n",
    "\n",
    "     alphah = 0.128 * exp(-(Vm - VT - 17.*mV) / (18.*mV))/ms : Hz\n",
    "     betah = 4/(1 + exp((-(Vm - VT - 40.*mV)) / (5.*mV)))/ms : Hz\n",
    "\n",
    "     alphan = (-0.032/mV) * (Vm - VT - 15.*mV) / (exp((-(Vm - VT - 15.*mV)) / (5.*mV)) - 1)/ms : Hz\n",
    "     betan = 0.5*exp(-(Vm - VT - 10.*mV) / (40.*mV))/ms : Hz\n",
    "     # The parameters to fit\n",
    "     gNa : siemens (constant)\n",
    "     gK : siemens (constant)\n",
    "     '''"
   ]
  },
  {
   "cell_type": "code",
   "execution_count": 5,
   "id": "571a3408-aa8d-47ad-8f15-b590c0afe187",
   "metadata": {},
   "outputs": [],
   "source": [
    "# Simulation-based inference object instantiation\n",
    "inferencer = Inferencer(dt=dt, model=eqs,\n",
    "                        input={'I_inj': inp_traces*amp},\n",
    "                        output={'Vm': out_traces*mV},\n",
    "                        method='exponential_euler',\n",
    "                        threshold='m>0.5', refractory='m>0.5',\n",
    "                        param_init={'Vm': 'Eleak',\n",
    "                                    'm': '1/(1 + betam/alpham)',\n",
    "                                    'h': '1/(1 + betah/alphah)',\n",
    "                                    'n': '1/(1 + betan/alphan)'})"
   ]
  },
  {
   "cell_type": "code",
   "execution_count": 6,
   "id": "cd060fab-1c46-4b5e-9d2e-c750eb0f0bd5",
   "metadata": {},
   "outputs": [
    {
     "name": "stdout",
     "output_type": "stream",
     "text": [
      "Round 1/1.\n",
      "Neural network successfully converged after 65 epochs.\n"
     ]
    }
   ],
   "source": [
    "posterior = inferencer.infere(n_samples=10000,\n",
    "                              inference_method='SNPE',\n",
    "                              density_estimator_model='mdn',\n",
    "                              gNa=[.5*uS, 80.*uS],\n",
    "                              gK=[1e-4*uS, 15.*uS])"
   ]
  },
  {
   "cell_type": "code",
   "execution_count": 7,
   "id": "23596d42-19a4-4274-9d7b-d678051dc77e",
   "metadata": {},
   "outputs": [
    {
     "data": {
      "application/vnd.jupyter.widget-view+json": {
       "model_id": "97a6a9a5e81e493aaacd66cdfcdfecef",
       "version_major": 2,
       "version_minor": 0
      },
      "text/plain": [
       "Drawing 10000 posterior samples:   0%|          | 0/10000 [00:00<?, ?it/s]"
      ]
     },
     "metadata": {},
     "output_type": "display_data"
    }
   ],
   "source": [
    "samples = inferencer.sample((10000, ))"
   ]
  },
  {
   "cell_type": "code",
   "execution_count": 8,
   "id": "ae3aca08-47d5-4071-8110-568b8d7dc0f4",
   "metadata": {},
   "outputs": [
    {
     "data": {
      "image/png": "[encoded data removed]",
      "text/plain": [
       "<Figure size 360x360 with 4 Axes>"
      ]
     },
     "metadata": {
      "needs_background": "light"
     },
     "output_type": "display_data"
    }
   ],
   "source": [
    "inferencer.pairplot(limits={'gNa': [.5*uS, 80.*uS], 'gK': [1e-4*uS, 15.*uS]},\n",
    "                    ticks={'gNa': [.5*uS, 80.*uS], 'gK': [1e-4*uS, 15.*uS]},\n",
    "                    labels={'gNa': r'$\\overline{g}_{Na}$', 'gK': r'$\\overline{g}_{K}$'},\n",
    "                    points={'gNa': 30*uS, 'gK': 1*uS},\n",
    "                    points_offdiag={'markersize': 6},\n",
    "                    points_colors = ['r'],\n",
    "                    figsize=(5, 5));"
   ]
  },
  {
   "cell_type": "code",
   "execution_count": null,
   "id": "0754317c-bb23-46c6-b459-21925e9a9572",
   "metadata": {},
   "outputs": [],
   "source": []
  }
 ],
 "metadata": {
  "kernelspec": {
   "display_name": "Python 3",
   "language": "python",
   "name": "python3"
  },
  "language_info": {
   "codemirror_mode": {
    "name": "ipython",
    "version": 3
   },
   "file_extension": ".py",
   "mimetype": "text/x-python",
   "name": "python",
   "nbconvert_exporter": "python",
   "pygments_lexer": "ipython3",
   "version": "3.8.10"
  }
 },
 "nbformat": 4,
 "nbformat_minor": 5
}
