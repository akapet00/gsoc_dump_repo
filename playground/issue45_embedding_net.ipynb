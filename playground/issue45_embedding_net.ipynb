{
 "cells": [
  {
   "cell_type": "markdown",
   "id": "633be796",
   "metadata": {},
   "source": [
    "https://github.com/brian-team/brian2modelfitting/issues/45"
   ]
  },
  {
   "cell_type": "markdown",
   "id": "5f4a73ed-f80c-4c05-8cda-0f5ec7c54910",
   "metadata": {},
   "source": [
    "# MLP"
   ]
  },
  {
   "cell_type": "code",
   "execution_count": 1,
   "id": "f43705fc",
   "metadata": {},
   "outputs": [],
   "source": [
    "import matplotlib.pyplot as plt\n",
    "\n",
    "from brian2 import *\n",
    "import sbi.utils\n",
    "import sbi.analysis\n",
    "import sbi.inference\n",
    "import torch\n",
    "from torch import nn"
   ]
  },
  {
   "cell_type": "code",
   "execution_count": 2,
   "id": "18a9ea31",
   "metadata": {},
   "outputs": [],
   "source": [
    "defaultclock.dt = 0.1 * ms"
   ]
  },
  {
   "cell_type": "code",
   "execution_count": 3,
   "id": "1e1ae2c2",
   "metadata": {},
   "outputs": [],
   "source": [
    "def simulate(params, I=1*nA, t_on=50*ms, t_total=350*ms):\n",
    "    \"\"\"\n",
    "    Simulates the HH-model with Brian2 for parameter sets in params and the\n",
    "    given input current (injection of I between t_on and t_total-t_on).\n",
    "    Returns a dictionary {'t': time steps, 'v': voltage,\n",
    "                          'I_inj': current, 'spike_count': spike count}.\n",
    "    \"\"\"\n",
    "    assert t_total > 2*t_on\n",
    "    t_off = t_total - t_on\n",
    "    \n",
    "    params = np.atleast_2d(params)\n",
    "    # fixed parameters\n",
    "    gleak = 10*nS\n",
    "    Eleak = -70*mV\n",
    "    VT = -60.0*mV\n",
    "    C = 200*pF\n",
    "    ENa = 53*mV\n",
    "    EK = -107*mV\n",
    "\n",
    "    # The conductance-based model\n",
    "    eqs = '''\n",
    "         dVm/dt = -(gNa*m**3*h*(Vm - ENa) + gK*n**4*(Vm - EK) + gleak*(Vm - Eleak) - I_inj) / C : volt\n",
    "         I_inj = int(t >= t_on and t < t_off)*I : amp (shared)\n",
    "         dm/dt = alpham*(1-m) - betam*m : 1\n",
    "         dn/dt = alphan*(1-n) - betan*n : 1\n",
    "         dh/dt = alphah*(1-h) - betah*h : 1\n",
    "         alpham = (-0.32/mV) * (Vm - VT - 13.*mV) / (exp((-(Vm - VT - 13.*mV))/(4.*mV)) - 1)/ms : Hz\n",
    "         betam = (0.28/mV) * (Vm - VT - 40.*mV) / (exp((Vm - VT - 40.*mV)/(5.*mV)) - 1)/ms : Hz\n",
    "         alphah = 0.128 * exp(-(Vm - VT - 17.*mV) / (18.*mV))/ms : Hz\n",
    "         betah = 4/(1 + exp((-(Vm - VT - 40.*mV)) / (5.*mV)))/ms : Hz\n",
    "         alphan = (-0.032/mV) * (Vm - VT - 15.*mV) / (exp((-(Vm - VT - 15.*mV)) / (5.*mV)) - 1)/ms : Hz\n",
    "         betan = 0.5*exp(-(Vm - VT - 10.*mV) / (40.*mV))/ms : Hz\n",
    "         # The parameters to fit\n",
    "         gNa : siemens (constant)\n",
    "         gK : siemens (constant)\n",
    "         '''\n",
    "    neurons = NeuronGroup(params.shape[0], eqs, threshold='m>0.5', refractory='m>0.5',\n",
    "                          method='exponential_euler', name='neurons')\n",
    "    Vm_mon = StateMonitor(neurons, 'Vm', record=True, name='Vm_mon')\n",
    "    spike_mon = SpikeMonitor(neurons, record=False, name='spike_mon')  #record=False → do not record times\n",
    "    neurons.gNa_ = params[:, 0]*uS\n",
    "    neurons.gK = params[:, 1]*uS\n",
    "\n",
    "    neurons.Vm = 'Eleak'\n",
    "    neurons.m = '1/(1 + betam/alpham)'         # Would be the solution when dm/dt = 0\n",
    "    neurons.h = '1/(1 + betah/alphah)'         # Would be the solution when dh/dt = 0\n",
    "    neurons.n = '1/(1 + betan/alphan)'         # Would be the solution when dn/dt = 0\n",
    "\n",
    "    run(t_total)\n",
    "    # For convenient plotting, reconstruct the current\n",
    "    I_inj = ((Vm_mon.t >= t_on) & (Vm_mon.t < t_off))*I\n",
    "    return dict(v=Vm_mon.Vm,\n",
    "                t=Vm_mon.t,\n",
    "                I_inj=I_inj,\n",
    "                spike_count=spike_mon.count)"
   ]
  },
  {
   "cell_type": "code",
   "execution_count": 4,
   "id": "529f4da5",
   "metadata": {},
   "outputs": [],
   "source": [
    "def simulation_wrapper(params):\n",
    "    obs = simulate(params)\n",
    "    Vm = obs['v'] / mV\n",
    "    return Vm"
   ]
  },
  {
   "cell_type": "code",
   "execution_count": 5,
   "id": "39417eeb-8e1e-47ec-8423-4050ff249599",
   "metadata": {},
   "outputs": [],
   "source": [
    "true_params = np.array([[32., 1.]])\n",
    "x_o = torch.tensor(simulation_wrapper(true_params), dtype=torch.float32)"
   ]
  },
  {
   "cell_type": "code",
   "execution_count": 6,
   "id": "14fdaf76",
   "metadata": {},
   "outputs": [],
   "source": [
    "prior_min = [.5, 1e-4]\n",
    "prior_max = [80., 15.]\n",
    "prior = sbi.utils.torchutils.BoxUniform(low=torch.as_tensor(prior_min),\n",
    "                                        high=torch.as_tensor(prior_max))\n",
    "\n",
    "theta = prior.sample((10000, ))\n",
    "x = torch.tensor(simulation_wrapper(theta), dtype=torch.float32)"
   ]
  },
  {
   "cell_type": "code",
   "execution_count": 7,
   "id": "612cb2cc",
   "metadata": {},
   "outputs": [
    {
     "name": "stdout",
     "output_type": "stream",
     "text": [
      "Neural network successfully converged after 200 epochs.\n"
     ]
    }
   ],
   "source": [
    "density_esimator = sbi.utils.posterior_nn(model='mdn')\n",
    "inference = sbi.inference.SNPE(prior, density_estimator=density_esimator)\n",
    "_ = inference.append_simulations(theta, x).train()\n",
    "posterior = inference.build_posterior()"
   ]
  },
  {
   "cell_type": "code",
   "execution_count": 10,
   "id": "44fa2b7d-9645-4dc0-ad9e-a1d3eb486018",
   "metadata": {},
   "outputs": [
    {
     "data": {
      "text/plain": [
       "sbi.inference.posteriors.direct_posterior.DirectPosterior"
      ]
     },
     "execution_count": 10,
     "metadata": {},
     "output_type": "execute_result"
    }
   ],
   "source": [
    "type(posterior)"
   ]
  },
  {
   "cell_type": "code",
   "execution_count": 8,
   "id": "919c8f59",
   "metadata": {},
   "outputs": [
    {
     "data": {
      "image/png": "[encoded data removed]",
      "text/plain": [
       "<Figure size 432x432 with 4 Axes>"
      ]
     },
     "metadata": {
      "needs_background": "light"
     },
     "output_type": "display_data"
    }
   ],
   "source": [
    "samples = posterior.sample((10000, ), x=x_o, show_progress_bars=False)\n",
    "labels_params = [r'$\\overline{g}_{Na}$', r'$\\overline{g}_{K}$']\n",
    "sbi.analysis.pairplot(samples,\n",
    "                      figsize=(6, 6),\n",
    "                      points=true_params,\n",
    "                      limits=[[pmin, pmax] for pmin, pmax in zip(prior_min, prior_max)],\n",
    "                      labels=labels_params,\n",
    "                      points_offdiag={'markersize': 6},\n",
    "                      points_colors=['r'])\n",
    "plt.tight_layout()"
   ]
  },
  {
   "cell_type": "code",
   "execution_count": 9,
   "id": "4a58941d-6320-41b0-b912-54f399a8ed9a",
   "metadata": {},
   "outputs": [
    {
     "data": {
      "image/png": "[encoded data removed]",
      "text/plain": [
       "<Figure size 432x432 with 4 Axes>"
      ]
     },
     "metadata": {
      "needs_background": "light"
     },
     "output_type": "display_data"
    }
   ],
   "source": [
    "samples = posterior.sample((10000,), x=x_o, show_progress_bars=False)\n",
    "labels_params = [r'$\\overline{g}_{Na}$', r'$\\overline{g}_{K}$']\n",
    "sbi.analysis.pairplot(samples,\n",
    "                      figsize=(6, 6),\n",
    "                      points=true_params,\n",
    "                      labels=labels_params,\n",
    "                      points_offdiag={'markersize': 6},\n",
    "                      points_colors=['r'])\n",
    "plt.tight_layout()"
   ]
  },
  {
   "cell_type": "markdown",
   "id": "180f4ff9-4a06-4c7e-87fc-113627680ca3",
   "metadata": {},
   "source": [
    "# LSTM + Time2Vec layer\n",
    "\n",
    "https://arxiv.org/abs/1907.05321"
   ]
  },
  {
   "cell_type": "code",
   "execution_count": 10,
   "id": "d481b177-4eb8-4592-85f9-83bb4c3b55a8",
   "metadata": {},
   "outputs": [
    {
     "name": "stdout",
     "output_type": "stream",
     "text": [
      "Time2Vec(\n",
      "  (p1): SinLayer(in_features=3500, out_features=30)\n",
      "  (p2): SinLayer(in_features=30, out_features=30)\n",
      "  (l1): Linear(in_features=30, out_features=30, bias=True)\n",
      "  (lstm): LSTM(30, 8)\n",
      ")\n"
     ]
    }
   ],
   "source": [
    "class SinLayer(nn.Module):\n",
    "    def __init__(self, in_features, out_features):\n",
    "        super(SinLayer, self).__init__()\n",
    "        self.in_features = in_features\n",
    "        self.out_features = out_features\n",
    "        self.w0 = nn.parameter.Parameter(torch.randn(in_features, 1))\n",
    "        self.b0 = nn.parameter.Parameter(torch.randn(1))\n",
    "        self.w = nn.parameter.Parameter(torch.randn(in_features, out_features-1))\n",
    "        self.b = nn.parameter.Parameter(torch.randn(out_features-1))\n",
    "    \n",
    "    def forward(self, x):\n",
    "        linear = torch.matmul(x, self.w0) + self.b0\n",
    "        periodic = torch.sin(torch.matmul(x, self.w) + self.b)\n",
    "        return torch.cat([linear, periodic], axis=1)\n",
    "    \n",
    "    def extra_repr(self):\n",
    "        return (\n",
    "            f'in_features={self.in_features}, '\n",
    "            f'out_features={self.out_features}')\n",
    "    \n",
    "\n",
    "class Time2Vec(nn.Module):\n",
    "    def __init__(self, in_features, hidden_features, output_features):\n",
    "        super(Time2Vec, self).__init__()\n",
    "        self.p1 = SinLayer(in_features, hidden_features)\n",
    "        self.p2 = SinLayer(hidden_features, hidden_features)\n",
    "        self.l1 = nn.Linear(hidden_features, hidden_features)\n",
    "        self.lstm = nn.LSTM(hidden_features, output_features)\n",
    "        # self.l2 = nn.Linear(output_features, output_features)\n",
    "        # self.relu = nn.ReLU()\n",
    "    \n",
    "    def forward(self, x):\n",
    "        x = self.p1(x)\n",
    "        x = self.p2(x)\n",
    "        x = self.l1(x)\n",
    "        x, _ = self.lstm(x.view(len(x), 1, -1))\n",
    "        # x = self.l2(x)\n",
    "        # x = self.relu(x)\n",
    "        return x.view(len(x), -1)\n",
    "\n",
    "    \n",
    "in_features = x.shape[1]\n",
    "hidden_features = 30\n",
    "embeddings_size = 30\n",
    "output_features = 8\n",
    "embedding_net = Time2Vec(in_features, hidden_features, output_features)\n",
    "print(embedding_net)"
   ]
  },
  {
   "cell_type": "code",
   "execution_count": 11,
   "id": "6e476488-3183-4611-8316-6e10229acbc6",
   "metadata": {},
   "outputs": [
    {
     "name": "stdout",
     "output_type": "stream",
     "text": [
      "Neural network successfully converged after 205 epochs.\n"
     ]
    }
   ],
   "source": [
    "density_esimator = sbi.utils.posterior_nn(model='mdn', embedding_net=embedding_net)\n",
    "inference = sbi.inference.SNPE(prior, density_estimator=density_esimator)\n",
    "_ = inference.append_simulations(theta, x).train()\n",
    "posterior = inference.build_posterior()"
   ]
  },
  {
   "cell_type": "code",
   "execution_count": 12,
   "id": "20daa572-9da6-430d-868b-db8c43cde7ad",
   "metadata": {},
   "outputs": [
    {
     "data": {
      "image/png": "[encoded data removed]",
      "text/plain": [
       "<Figure size 432x432 with 4 Axes>"
      ]
     },
     "metadata": {
      "needs_background": "light"
     },
     "output_type": "display_data"
    }
   ],
   "source": [
    "samples = posterior.sample((1000, ), x=x_o, show_progress_bars=False)\n",
    "labels_params = [r'$\\overline{g}_{Na}$', r'$\\overline{g}_{K}$']\n",
    "sbi.analysis.pairplot(samples,\n",
    "                      figsize=(6, 6),\n",
    "                      points=true_params,\n",
    "                      limits=[[pmin, pmax] for pmin, pmax in zip(prior_min, prior_max)],\n",
    "                      labels=labels_params,\n",
    "                      points_offdiag={'markersize': 6},\n",
    "                      points_colors=['r'])\n",
    "plt.tight_layout()"
   ]
  },
  {
   "cell_type": "markdown",
   "id": "9468c216-d144-4239-a742-1054d7adbb1c",
   "metadata": {},
   "source": [
    "# CNN\n",
    "\n",
    "https://arxiv.org/abs/2012.02807"
   ]
  },
  {
   "cell_type": "code",
   "execution_count": 13,
   "id": "3dc66ed0-c3f0-4211-9164-35639e2accd7",
   "metadata": {},
   "outputs": [],
   "source": [
    "class YuleNet(nn.Module):\n",
    "    def __init__(self, in_features, out_features):\n",
    "        super().__init__()\n",
    "        self.conv1 = nn.Conv1d(in_channels=1, out_channels=8, kernel_size=64,\n",
    "                               stride=1, padding=32, bias=True)\n",
    "        self.relu1 = nn.ReLU()\n",
    "        pooling1 = 16\n",
    "        self.pool1 = nn.AvgPool1d(kernel_size=pooling1)\n",
    "\n",
    "        self.conv2 = nn.Conv1d(in_channels=8, out_channels=8, kernel_size=64,\n",
    "                               stride=1, padding=32, bias=True)\n",
    "        self.relu2 = nn.ReLU()\n",
    "        pooling2 = int((in_features // pooling1) // 16)\n",
    "        self.pool2 = nn.AvgPool1d(kernel_size=pooling2)\n",
    "\n",
    "        self.dropout = nn.Dropout(p=0.50)\n",
    "\n",
    "        self.linear = nn.Linear(#in_features=8 * in_features // (pooling1 * pooling2),\n",
    "                                in_features=128,\n",
    "                                out_features=out_features)\n",
    "        self.relu3 = nn.ReLU()\n",
    "\n",
    "    def forward(self, x):\n",
    "        if x.ndim == 1:\n",
    "            x = x.view(1, 1, -1)\n",
    "        else:\n",
    "            x = x.view(len(x), 1, -1)\n",
    "        x_conv1 = self.conv1(x)\n",
    "        x_relu1 = self.relu1(x_conv1)\n",
    "        x_pool1 = self.pool1(x_relu1)\n",
    "\n",
    "        x_conv2 = self.conv2(x_pool1)\n",
    "        x_relu2 = self.relu2(x_conv2)\n",
    "        x_pool2 = self.pool2(x_relu2)\n",
    "        \n",
    "        x_flatten = x_pool2.view(len(x), 1, -1)\n",
    "        x_dropout = self.dropout(x_flatten)\n",
    "\n",
    "        x = self.relu3(self.linear(x_dropout))\n",
    "        return x.view(len(x), -1)"
   ]
  },
  {
   "cell_type": "code",
   "execution_count": 14,
   "id": "61985cac-9b52-44bb-b0b3-d55891345b6f",
   "metadata": {},
   "outputs": [
    {
     "name": "stdout",
     "output_type": "stream",
     "text": [
      "YuleNet(\n",
      "  (conv1): Conv1d(1, 8, kernel_size=(64,), stride=(1,), padding=(32,))\n",
      "  (relu1): ReLU()\n",
      "  (pool1): AvgPool1d(kernel_size=(16,), stride=(16,), padding=(0,))\n",
      "  (conv2): Conv1d(8, 8, kernel_size=(64,), stride=(1,), padding=(32,))\n",
      "  (relu2): ReLU()\n",
      "  (pool2): AvgPool1d(kernel_size=(13,), stride=(13,), padding=(0,))\n",
      "  (dropout): Dropout(p=0.5, inplace=False)\n",
      "  (linear): Linear(in_features=128, out_features=8, bias=True)\n",
      "  (relu3): ReLU()\n",
      ")\n"
     ]
    }
   ],
   "source": [
    "in_features = x.shape[1]\n",
    "out_features = 8\n",
    "embedding_net = YuleNet(in_features, out_features)\n",
    "print(embedding_net)"
   ]
  },
  {
   "cell_type": "code",
   "execution_count": 15,
   "id": "ed6bcac2-f3f1-4ca5-9ebc-0adb03143539",
   "metadata": {},
   "outputs": [
    {
     "name": "stdout",
     "output_type": "stream",
     "text": [
      "Neural network successfully converged after 36 epochs.\n"
     ]
    }
   ],
   "source": [
    "density_esimator = sbi.utils.posterior_nn(model='mdn', embedding_net=embedding_net)\n",
    "inference = sbi.inference.SNPE(prior, density_estimator=density_esimator)\n",
    "_ = inference.append_simulations(theta, x).train(\n",
    "            num_atoms=10,\n",
    "            use_combined_loss=True,\n",
    "            discard_prior_samples=True,\n",
    "            )"
   ]
  },
  {
   "cell_type": "code",
   "execution_count": 16,
   "id": "ea8d886b-e8a4-4458-bbc6-9216778074a9",
   "metadata": {},
   "outputs": [
    {
     "data": {
      "image/png": "[encoded data removed]",
      "text/plain": [
       "<Figure size 432x432 with 4 Axes>"
      ]
     },
     "metadata": {
      "needs_background": "light"
     },
     "output_type": "display_data"
    }
   ],
   "source": [
    "posterior = inference.build_posterior()\n",
    "samples = posterior.sample((10000, ), x=x_o, show_progress_bars=False)\n",
    "labels_params = [r'$\\overline{g}_{Na}$', r'$\\overline{g}_{K}$']\n",
    "sbi.analysis.pairplot(samples,\n",
    "                      figsize=(6, 6),\n",
    "                      points=true_params,\n",
    "                      limits=[[pmin, pmax] for pmin, pmax in zip(prior_min, prior_max)],\n",
    "                      labels=labels_params,\n",
    "                      points_offdiag={'markersize': 6},\n",
    "                      points_colors=['r'])\n",
    "plt.tight_layout()"
   ]
  },
  {
   "cell_type": "code",
   "execution_count": 18,
   "id": "3aa264e1-7298-42e7-81e6-e050c1e9c91d",
   "metadata": {},
   "outputs": [
    {
     "data": {
      "image/png": "[encoded data removed]",
      "text/plain": [
       "<Figure size 432x432 with 4 Axes>"
      ]
     },
     "metadata": {
      "needs_background": "light"
     },
     "output_type": "display_data"
    }
   ],
   "source": [
    "posterior = inference.build_posterior()\n",
    "samples = posterior.sample((10000, ), x=x_o, show_progress_bars=False)\n",
    "labels_params = [r'$\\overline{g}_{Na}$', r'$\\overline{g}_{K}$']\n",
    "sbi.analysis.pairplot(samples,\n",
    "                      figsize=(6, 6),\n",
    "                      points=true_params,\n",
    "                      labels=labels_params,\n",
    "                      points_offdiag={'markersize': 6},\n",
    "                      points_colors=['r'])\n",
    "plt.tight_layout()"
   ]
  },
  {
   "cell_type": "code",
   "execution_count": null,
   "id": "e5ab7fb6-6cd3-4337-973a-58a42a6be0ca",
   "metadata": {},
   "outputs": [],
   "source": []
  }
 ],
 "metadata": {
  "kernelspec": {
   "display_name": "Python 3",
   "language": "python",
   "name": "python3"
  },
  "language_info": {
   "codemirror_mode": {
    "name": "ipython",
    "version": 3
   },
   "file_extension": ".py",
   "mimetype": "text/x-python",
   "name": "python",
   "nbconvert_exporter": "python",
   "pygments_lexer": "ipython3",
   "version": "3.8.10"
  }
 },
 "nbformat": 4,
 "nbformat_minor": 5
}
